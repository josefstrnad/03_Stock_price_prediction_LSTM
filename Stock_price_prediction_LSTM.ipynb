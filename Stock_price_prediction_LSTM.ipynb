{
  "nbformat": 4,
  "nbformat_minor": 0,
  "metadata": {
    "colab": {
      "provenance": [],
      "toc_visible": true,
      "authorship_tag": "ABX9TyNefXA9lXokzbQ1m1bcW7+P",
      "include_colab_link": true
    },
    "kernelspec": {
      "name": "python3",
      "display_name": "Python 3"
    },
    "language_info": {
      "name": "python"
    }
  },
  "cells": [
    {
      "cell_type": "markdown",
      "metadata": {
        "id": "view-in-github",
        "colab_type": "text"
      },
      "source": [
        "<a href=\"https://colab.research.google.com/github/josefstrnad/03_Stock_price_prediction_LSTM_/blob/main/Stock_price_prediction_LSTM.ipynb\" target=\"_parent\"><img src=\"https://colab.research.google.com/assets/colab-badge.svg\" alt=\"Open In Colab\"/></a>"
      ]
    },
    {
      "cell_type": "markdown",
      "source": [
        "# Stock market prediction with LSTM"
      ],
      "metadata": {
        "id": "wefLi5U-KJxD"
      }
    },
    {
      "cell_type": "code",
      "source": [
        "# predicting "
      ],
      "metadata": {
        "id": "Ad_ZfalngXkY"
      },
      "execution_count": null,
      "outputs": []
    },
    {
      "cell_type": "code",
      "source": [
        "!pip install yahoo-fin"
      ],
      "metadata": {
        "colab": {
          "base_uri": "https://localhost:8080/"
        },
        "id": "NP57MpwVVQfC",
        "outputId": "41fad80a-741b-4bd3-9539-5688a1c97aeb"
      },
      "execution_count": 29,
      "outputs": [
        {
          "output_type": "stream",
          "name": "stdout",
          "text": [
            "Looking in indexes: https://pypi.org/simple, https://us-python.pkg.dev/colab-wheels/public/simple/\n",
            "Requirement already satisfied: yahoo-fin in /usr/local/lib/python3.8/dist-packages (0.8.9.1)\n",
            "Requirement already satisfied: requests in /usr/local/lib/python3.8/dist-packages (from yahoo-fin) (2.28.2)\n",
            "Requirement already satisfied: pandas in /usr/local/lib/python3.8/dist-packages (from yahoo-fin) (1.3.5)\n",
            "Requirement already satisfied: feedparser in /usr/local/lib/python3.8/dist-packages (from yahoo-fin) (6.0.10)\n",
            "Requirement already satisfied: requests-html in /usr/local/lib/python3.8/dist-packages (from yahoo-fin) (0.10.0)\n",
            "Requirement already satisfied: sgmllib3k in /usr/local/lib/python3.8/dist-packages (from feedparser->yahoo-fin) (1.0.0)\n",
            "Requirement already satisfied: python-dateutil>=2.7.3 in /usr/local/lib/python3.8/dist-packages (from pandas->yahoo-fin) (2.8.2)\n",
            "Requirement already satisfied: numpy>=1.17.3 in /usr/local/lib/python3.8/dist-packages (from pandas->yahoo-fin) (1.22.4)\n",
            "Requirement already satisfied: pytz>=2017.3 in /usr/local/lib/python3.8/dist-packages (from pandas->yahoo-fin) (2022.7.1)\n",
            "Requirement already satisfied: idna<4,>=2.5 in /usr/local/lib/python3.8/dist-packages (from requests->yahoo-fin) (2.10)\n",
            "Requirement already satisfied: charset-normalizer<4,>=2 in /usr/local/lib/python3.8/dist-packages (from requests->yahoo-fin) (3.0.1)\n",
            "Requirement already satisfied: certifi>=2017.4.17 in /usr/local/lib/python3.8/dist-packages (from requests->yahoo-fin) (2022.12.7)\n",
            "Requirement already satisfied: urllib3<1.27,>=1.21.1 in /usr/local/lib/python3.8/dist-packages (from requests->yahoo-fin) (1.26.14)\n",
            "Requirement already satisfied: fake-useragent in /usr/local/lib/python3.8/dist-packages (from requests-html->yahoo-fin) (1.1.1)\n",
            "Requirement already satisfied: w3lib in /usr/local/lib/python3.8/dist-packages (from requests-html->yahoo-fin) (2.1.1)\n",
            "Requirement already satisfied: parse in /usr/local/lib/python3.8/dist-packages (from requests-html->yahoo-fin) (1.19.0)\n",
            "Requirement already satisfied: pyquery in /usr/local/lib/python3.8/dist-packages (from requests-html->yahoo-fin) (2.0.0)\n",
            "Requirement already satisfied: bs4 in /usr/local/lib/python3.8/dist-packages (from requests-html->yahoo-fin) (0.0.1)\n",
            "Requirement already satisfied: pyppeteer>=0.0.14 in /usr/local/lib/python3.8/dist-packages (from requests-html->yahoo-fin) (1.0.2)\n",
            "Requirement already satisfied: tqdm<5.0.0,>=4.42.1 in /usr/local/lib/python3.8/dist-packages (from pyppeteer>=0.0.14->requests-html->yahoo-fin) (4.64.1)\n",
            "Requirement already satisfied: pyee<9.0.0,>=8.1.0 in /usr/local/lib/python3.8/dist-packages (from pyppeteer>=0.0.14->requests-html->yahoo-fin) (8.2.2)\n",
            "Requirement already satisfied: appdirs<2.0.0,>=1.4.3 in /usr/local/lib/python3.8/dist-packages (from pyppeteer>=0.0.14->requests-html->yahoo-fin) (1.4.4)\n",
            "Requirement already satisfied: importlib-metadata>=1.4 in /usr/local/lib/python3.8/dist-packages (from pyppeteer>=0.0.14->requests-html->yahoo-fin) (6.0.0)\n",
            "Requirement already satisfied: websockets<11.0,>=10.0 in /usr/local/lib/python3.8/dist-packages (from pyppeteer>=0.0.14->requests-html->yahoo-fin) (10.4)\n",
            "Requirement already satisfied: six>=1.5 in /usr/local/lib/python3.8/dist-packages (from python-dateutil>=2.7.3->pandas->yahoo-fin) (1.15.0)\n",
            "Requirement already satisfied: beautifulsoup4 in /usr/local/lib/python3.8/dist-packages (from bs4->requests-html->yahoo-fin) (4.11.2)\n",
            "Requirement already satisfied: importlib-resources>=5.0 in /usr/local/lib/python3.8/dist-packages (from fake-useragent->requests-html->yahoo-fin) (5.12.0)\n",
            "Requirement already satisfied: lxml>=2.1 in /usr/local/lib/python3.8/dist-packages (from pyquery->requests-html->yahoo-fin) (4.9.2)\n",
            "Requirement already satisfied: cssselect>=1.2.0 in /usr/local/lib/python3.8/dist-packages (from pyquery->requests-html->yahoo-fin) (1.2.0)\n",
            "Requirement already satisfied: zipp>=0.5 in /usr/local/lib/python3.8/dist-packages (from importlib-metadata>=1.4->pyppeteer>=0.0.14->requests-html->yahoo-fin) (3.15.0)\n",
            "Requirement already satisfied: soupsieve>1.2 in /usr/local/lib/python3.8/dist-packages (from beautifulsoup4->bs4->requests-html->yahoo-fin) (2.4)\n"
          ]
        }
      ]
    },
    {
      "cell_type": "code",
      "execution_count": 30,
      "metadata": {
        "id": "agavMEx7KC3e"
      },
      "outputs": [],
      "source": [
        "import numpy as np \n",
        "import pandas as pd \n",
        "import matplotlib.pyplot as plt\n",
        "from datetime import datetime\n",
        "from keras.models import Sequential\n",
        "from keras.layers import Dense, LSTM, Dropout, GRU\n",
        "from keras.layers import *\n",
        "from sklearn.preprocessing import MinMaxScaler\n",
        "from sklearn.metrics import mean_squared_error, mean_absolute_error\n",
        "from sklearn.model_selection import train_test_split\n",
        "from keras.callbacks import EarlyStopping\n",
        "from keras.optimizers import Adam, SGD\n",
        "\n",
        "import yahoo_fin.stock_info as yh"
      ]
    },
    {
      "cell_type": "markdown",
      "source": [
        "# Loading data"
      ],
      "metadata": {
        "id": "NPHTI8RRah3P"
      }
    },
    {
      "cell_type": "code",
      "source": [
        "response = yh.get_data('AAPL', start_date = '01/03/2013', end_date = '01/31/2023', index_as_date = False, interval = '1d')"
      ],
      "metadata": {
        "id": "zJ6AP3oyVJNb"
      },
      "execution_count": 31,
      "outputs": []
    },
    {
      "cell_type": "code",
      "source": [
        "response.head()"
      ],
      "metadata": {
        "colab": {
          "base_uri": "https://localhost:8080/",
          "height": 206
        },
        "id": "4ZcSL3LgVwBy",
        "outputId": "a0d7d87e-45d6-4d3f-c117-47bfdd044100"
      },
      "execution_count": 32,
      "outputs": [
        {
          "output_type": "execute_result",
          "data": {
            "text/plain": [
              "        date       open       high        low      close   adjclose  \\\n",
              "0 2013-01-03  19.567142  19.631071  19.321428  19.360714  16.624599   \n",
              "1 2013-01-04  19.177500  19.236786  18.779642  18.821428  16.161520   \n",
              "2 2013-01-07  18.642857  18.903570  18.400000  18.710714  16.066454   \n",
              "3 2013-01-08  18.900356  18.996071  18.616072  18.761070  16.109694   \n",
              "4 2013-01-09  18.660713  18.750357  18.428213  18.467857  15.857922   \n",
              "\n",
              "      volume ticker  \n",
              "0  352965200   AAPL  \n",
              "1  594333600   AAPL  \n",
              "2  484156400   AAPL  \n",
              "3  458707200   AAPL  \n",
              "4  407604400   AAPL  "
            ],
            "text/html": [
              "\n",
              "  <div id=\"df-a7ab130e-3501-4f54-973c-1b4cfb6c374a\">\n",
              "    <div class=\"colab-df-container\">\n",
              "      <div>\n",
              "<style scoped>\n",
              "    .dataframe tbody tr th:only-of-type {\n",
              "        vertical-align: middle;\n",
              "    }\n",
              "\n",
              "    .dataframe tbody tr th {\n",
              "        vertical-align: top;\n",
              "    }\n",
              "\n",
              "    .dataframe thead th {\n",
              "        text-align: right;\n",
              "    }\n",
              "</style>\n",
              "<table border=\"1\" class=\"dataframe\">\n",
              "  <thead>\n",
              "    <tr style=\"text-align: right;\">\n",
              "      <th></th>\n",
              "      <th>date</th>\n",
              "      <th>open</th>\n",
              "      <th>high</th>\n",
              "      <th>low</th>\n",
              "      <th>close</th>\n",
              "      <th>adjclose</th>\n",
              "      <th>volume</th>\n",
              "      <th>ticker</th>\n",
              "    </tr>\n",
              "  </thead>\n",
              "  <tbody>\n",
              "    <tr>\n",
              "      <th>0</th>\n",
              "      <td>2013-01-03</td>\n",
              "      <td>19.567142</td>\n",
              "      <td>19.631071</td>\n",
              "      <td>19.321428</td>\n",
              "      <td>19.360714</td>\n",
              "      <td>16.624599</td>\n",
              "      <td>352965200</td>\n",
              "      <td>AAPL</td>\n",
              "    </tr>\n",
              "    <tr>\n",
              "      <th>1</th>\n",
              "      <td>2013-01-04</td>\n",
              "      <td>19.177500</td>\n",
              "      <td>19.236786</td>\n",
              "      <td>18.779642</td>\n",
              "      <td>18.821428</td>\n",
              "      <td>16.161520</td>\n",
              "      <td>594333600</td>\n",
              "      <td>AAPL</td>\n",
              "    </tr>\n",
              "    <tr>\n",
              "      <th>2</th>\n",
              "      <td>2013-01-07</td>\n",
              "      <td>18.642857</td>\n",
              "      <td>18.903570</td>\n",
              "      <td>18.400000</td>\n",
              "      <td>18.710714</td>\n",
              "      <td>16.066454</td>\n",
              "      <td>484156400</td>\n",
              "      <td>AAPL</td>\n",
              "    </tr>\n",
              "    <tr>\n",
              "      <th>3</th>\n",
              "      <td>2013-01-08</td>\n",
              "      <td>18.900356</td>\n",
              "      <td>18.996071</td>\n",
              "      <td>18.616072</td>\n",
              "      <td>18.761070</td>\n",
              "      <td>16.109694</td>\n",
              "      <td>458707200</td>\n",
              "      <td>AAPL</td>\n",
              "    </tr>\n",
              "    <tr>\n",
              "      <th>4</th>\n",
              "      <td>2013-01-09</td>\n",
              "      <td>18.660713</td>\n",
              "      <td>18.750357</td>\n",
              "      <td>18.428213</td>\n",
              "      <td>18.467857</td>\n",
              "      <td>15.857922</td>\n",
              "      <td>407604400</td>\n",
              "      <td>AAPL</td>\n",
              "    </tr>\n",
              "  </tbody>\n",
              "</table>\n",
              "</div>\n",
              "      <button class=\"colab-df-convert\" onclick=\"convertToInteractive('df-a7ab130e-3501-4f54-973c-1b4cfb6c374a')\"\n",
              "              title=\"Convert this dataframe to an interactive table.\"\n",
              "              style=\"display:none;\">\n",
              "        \n",
              "  <svg xmlns=\"http://www.w3.org/2000/svg\" height=\"24px\"viewBox=\"0 0 24 24\"\n",
              "       width=\"24px\">\n",
              "    <path d=\"M0 0h24v24H0V0z\" fill=\"none\"/>\n",
              "    <path d=\"M18.56 5.44l.94 2.06.94-2.06 2.06-.94-2.06-.94-.94-2.06-.94 2.06-2.06.94zm-11 1L8.5 8.5l.94-2.06 2.06-.94-2.06-.94L8.5 2.5l-.94 2.06-2.06.94zm10 10l.94 2.06.94-2.06 2.06-.94-2.06-.94-.94-2.06-.94 2.06-2.06.94z\"/><path d=\"M17.41 7.96l-1.37-1.37c-.4-.4-.92-.59-1.43-.59-.52 0-1.04.2-1.43.59L10.3 9.45l-7.72 7.72c-.78.78-.78 2.05 0 2.83L4 21.41c.39.39.9.59 1.41.59.51 0 1.02-.2 1.41-.59l7.78-7.78 2.81-2.81c.8-.78.8-2.07 0-2.86zM5.41 20L4 18.59l7.72-7.72 1.47 1.35L5.41 20z\"/>\n",
              "  </svg>\n",
              "      </button>\n",
              "      \n",
              "  <style>\n",
              "    .colab-df-container {\n",
              "      display:flex;\n",
              "      flex-wrap:wrap;\n",
              "      gap: 12px;\n",
              "    }\n",
              "\n",
              "    .colab-df-convert {\n",
              "      background-color: #E8F0FE;\n",
              "      border: none;\n",
              "      border-radius: 50%;\n",
              "      cursor: pointer;\n",
              "      display: none;\n",
              "      fill: #1967D2;\n",
              "      height: 32px;\n",
              "      padding: 0 0 0 0;\n",
              "      width: 32px;\n",
              "    }\n",
              "\n",
              "    .colab-df-convert:hover {\n",
              "      background-color: #E2EBFA;\n",
              "      box-shadow: 0px 1px 2px rgba(60, 64, 67, 0.3), 0px 1px 3px 1px rgba(60, 64, 67, 0.15);\n",
              "      fill: #174EA6;\n",
              "    }\n",
              "\n",
              "    [theme=dark] .colab-df-convert {\n",
              "      background-color: #3B4455;\n",
              "      fill: #D2E3FC;\n",
              "    }\n",
              "\n",
              "    [theme=dark] .colab-df-convert:hover {\n",
              "      background-color: #434B5C;\n",
              "      box-shadow: 0px 1px 3px 1px rgba(0, 0, 0, 0.15);\n",
              "      filter: drop-shadow(0px 1px 2px rgba(0, 0, 0, 0.3));\n",
              "      fill: #FFFFFF;\n",
              "    }\n",
              "  </style>\n",
              "\n",
              "      <script>\n",
              "        const buttonEl =\n",
              "          document.querySelector('#df-a7ab130e-3501-4f54-973c-1b4cfb6c374a button.colab-df-convert');\n",
              "        buttonEl.style.display =\n",
              "          google.colab.kernel.accessAllowed ? 'block' : 'none';\n",
              "\n",
              "        async function convertToInteractive(key) {\n",
              "          const element = document.querySelector('#df-a7ab130e-3501-4f54-973c-1b4cfb6c374a');\n",
              "          const dataTable =\n",
              "            await google.colab.kernel.invokeFunction('convertToInteractive',\n",
              "                                                     [key], {});\n",
              "          if (!dataTable) return;\n",
              "\n",
              "          const docLinkHtml = 'Like what you see? Visit the ' +\n",
              "            '<a target=\"_blank\" href=https://colab.research.google.com/notebooks/data_table.ipynb>data table notebook</a>'\n",
              "            + ' to learn more about interactive tables.';\n",
              "          element.innerHTML = '';\n",
              "          dataTable['output_type'] = 'display_data';\n",
              "          await google.colab.output.renderOutput(dataTable, element);\n",
              "          const docLink = document.createElement('div');\n",
              "          docLink.innerHTML = docLinkHtml;\n",
              "          element.appendChild(docLink);\n",
              "        }\n",
              "      </script>\n",
              "    </div>\n",
              "  </div>\n",
              "  "
            ]
          },
          "metadata": {},
          "execution_count": 32
        }
      ]
    },
    {
      "cell_type": "code",
      "source": [
        "response.shape"
      ],
      "metadata": {
        "colab": {
          "base_uri": "https://localhost:8080/"
        },
        "id": "1Jlj3U8mVydC",
        "outputId": "e0485e2a-4b3c-44a2-8555-411b223ff519"
      },
      "execution_count": 33,
      "outputs": [
        {
          "output_type": "execute_result",
          "data": {
            "text/plain": [
              "(2536, 8)"
            ]
          },
          "metadata": {},
          "execution_count": 33
        }
      ]
    },
    {
      "cell_type": "code",
      "source": [
        "df = pd.DataFrame(response)"
      ],
      "metadata": {
        "id": "u3g9PLo4V1Va"
      },
      "execution_count": 34,
      "outputs": []
    },
    {
      "cell_type": "code",
      "source": [
        "df.info()"
      ],
      "metadata": {
        "colab": {
          "base_uri": "https://localhost:8080/"
        },
        "id": "2PyfEfGP0plQ",
        "outputId": "f0158180-1e5b-42e5-fc53-d80cf890cf8a"
      },
      "execution_count": 35,
      "outputs": [
        {
          "output_type": "stream",
          "name": "stdout",
          "text": [
            "<class 'pandas.core.frame.DataFrame'>\n",
            "RangeIndex: 2536 entries, 0 to 2535\n",
            "Data columns (total 8 columns):\n",
            " #   Column    Non-Null Count  Dtype         \n",
            "---  ------    --------------  -----         \n",
            " 0   date      2536 non-null   datetime64[ns]\n",
            " 1   open      2536 non-null   float64       \n",
            " 2   high      2536 non-null   float64       \n",
            " 3   low       2536 non-null   float64       \n",
            " 4   close     2536 non-null   float64       \n",
            " 5   adjclose  2536 non-null   float64       \n",
            " 6   volume    2536 non-null   int64         \n",
            " 7   ticker    2536 non-null   object        \n",
            "dtypes: datetime64[ns](1), float64(5), int64(1), object(1)\n",
            "memory usage: 158.6+ KB\n"
          ]
        }
      ]
    },
    {
      "cell_type": "code",
      "source": [
        "#Convert date\n",
        "def to_datetime(df):\n",
        "    date = datetime.strptime(df, '%d.%m.%Y')\n",
        "    return date.strftime(\"%Y-%m-%d\")"
      ],
      "metadata": {
        "id": "e2zsTJXvzDmE"
      },
      "execution_count": 36,
      "outputs": []
    },
    {
      "cell_type": "code",
      "source": [
        "df = df.sort_values('date').reset_index(drop=True)"
      ],
      "metadata": {
        "id": "9EF-wcAzyxeF"
      },
      "execution_count": 37,
      "outputs": []
    },
    {
      "cell_type": "code",
      "source": [
        "df = df.rename(columns={'date': 'Date', 'close': 'Price'})\n",
        "df = df[['Date', 'Price']]\n",
        "df"
      ],
      "metadata": {
        "colab": {
          "base_uri": "https://localhost:8080/",
          "height": 424
        },
        "id": "uAAWhFiMWaeU",
        "outputId": "85afda4a-bf6a-4b9c-c612-9e7d4abc1e2e"
      },
      "execution_count": 38,
      "outputs": [
        {
          "output_type": "execute_result",
          "data": {
            "text/plain": [
              "           Date       Price\n",
              "0    2013-01-03   19.360714\n",
              "1    2013-01-04   18.821428\n",
              "2    2013-01-07   18.710714\n",
              "3    2013-01-08   18.761070\n",
              "4    2013-01-09   18.467857\n",
              "...         ...         ...\n",
              "2531 2023-01-24  142.529999\n",
              "2532 2023-01-25  141.860001\n",
              "2533 2023-01-26  143.960007\n",
              "2534 2023-01-27  145.929993\n",
              "2535 2023-01-30  143.000000\n",
              "\n",
              "[2536 rows x 2 columns]"
            ],
            "text/html": [
              "\n",
              "  <div id=\"df-de61e89d-a871-4b46-b6b5-71223c64b4d0\">\n",
              "    <div class=\"colab-df-container\">\n",
              "      <div>\n",
              "<style scoped>\n",
              "    .dataframe tbody tr th:only-of-type {\n",
              "        vertical-align: middle;\n",
              "    }\n",
              "\n",
              "    .dataframe tbody tr th {\n",
              "        vertical-align: top;\n",
              "    }\n",
              "\n",
              "    .dataframe thead th {\n",
              "        text-align: right;\n",
              "    }\n",
              "</style>\n",
              "<table border=\"1\" class=\"dataframe\">\n",
              "  <thead>\n",
              "    <tr style=\"text-align: right;\">\n",
              "      <th></th>\n",
              "      <th>Date</th>\n",
              "      <th>Price</th>\n",
              "    </tr>\n",
              "  </thead>\n",
              "  <tbody>\n",
              "    <tr>\n",
              "      <th>0</th>\n",
              "      <td>2013-01-03</td>\n",
              "      <td>19.360714</td>\n",
              "    </tr>\n",
              "    <tr>\n",
              "      <th>1</th>\n",
              "      <td>2013-01-04</td>\n",
              "      <td>18.821428</td>\n",
              "    </tr>\n",
              "    <tr>\n",
              "      <th>2</th>\n",
              "      <td>2013-01-07</td>\n",
              "      <td>18.710714</td>\n",
              "    </tr>\n",
              "    <tr>\n",
              "      <th>3</th>\n",
              "      <td>2013-01-08</td>\n",
              "      <td>18.761070</td>\n",
              "    </tr>\n",
              "    <tr>\n",
              "      <th>4</th>\n",
              "      <td>2013-01-09</td>\n",
              "      <td>18.467857</td>\n",
              "    </tr>\n",
              "    <tr>\n",
              "      <th>...</th>\n",
              "      <td>...</td>\n",
              "      <td>...</td>\n",
              "    </tr>\n",
              "    <tr>\n",
              "      <th>2531</th>\n",
              "      <td>2023-01-24</td>\n",
              "      <td>142.529999</td>\n",
              "    </tr>\n",
              "    <tr>\n",
              "      <th>2532</th>\n",
              "      <td>2023-01-25</td>\n",
              "      <td>141.860001</td>\n",
              "    </tr>\n",
              "    <tr>\n",
              "      <th>2533</th>\n",
              "      <td>2023-01-26</td>\n",
              "      <td>143.960007</td>\n",
              "    </tr>\n",
              "    <tr>\n",
              "      <th>2534</th>\n",
              "      <td>2023-01-27</td>\n",
              "      <td>145.929993</td>\n",
              "    </tr>\n",
              "    <tr>\n",
              "      <th>2535</th>\n",
              "      <td>2023-01-30</td>\n",
              "      <td>143.000000</td>\n",
              "    </tr>\n",
              "  </tbody>\n",
              "</table>\n",
              "<p>2536 rows × 2 columns</p>\n",
              "</div>\n",
              "      <button class=\"colab-df-convert\" onclick=\"convertToInteractive('df-de61e89d-a871-4b46-b6b5-71223c64b4d0')\"\n",
              "              title=\"Convert this dataframe to an interactive table.\"\n",
              "              style=\"display:none;\">\n",
              "        \n",
              "  <svg xmlns=\"http://www.w3.org/2000/svg\" height=\"24px\"viewBox=\"0 0 24 24\"\n",
              "       width=\"24px\">\n",
              "    <path d=\"M0 0h24v24H0V0z\" fill=\"none\"/>\n",
              "    <path d=\"M18.56 5.44l.94 2.06.94-2.06 2.06-.94-2.06-.94-.94-2.06-.94 2.06-2.06.94zm-11 1L8.5 8.5l.94-2.06 2.06-.94-2.06-.94L8.5 2.5l-.94 2.06-2.06.94zm10 10l.94 2.06.94-2.06 2.06-.94-2.06-.94-.94-2.06-.94 2.06-2.06.94z\"/><path d=\"M17.41 7.96l-1.37-1.37c-.4-.4-.92-.59-1.43-.59-.52 0-1.04.2-1.43.59L10.3 9.45l-7.72 7.72c-.78.78-.78 2.05 0 2.83L4 21.41c.39.39.9.59 1.41.59.51 0 1.02-.2 1.41-.59l7.78-7.78 2.81-2.81c.8-.78.8-2.07 0-2.86zM5.41 20L4 18.59l7.72-7.72 1.47 1.35L5.41 20z\"/>\n",
              "  </svg>\n",
              "      </button>\n",
              "      \n",
              "  <style>\n",
              "    .colab-df-container {\n",
              "      display:flex;\n",
              "      flex-wrap:wrap;\n",
              "      gap: 12px;\n",
              "    }\n",
              "\n",
              "    .colab-df-convert {\n",
              "      background-color: #E8F0FE;\n",
              "      border: none;\n",
              "      border-radius: 50%;\n",
              "      cursor: pointer;\n",
              "      display: none;\n",
              "      fill: #1967D2;\n",
              "      height: 32px;\n",
              "      padding: 0 0 0 0;\n",
              "      width: 32px;\n",
              "    }\n",
              "\n",
              "    .colab-df-convert:hover {\n",
              "      background-color: #E2EBFA;\n",
              "      box-shadow: 0px 1px 2px rgba(60, 64, 67, 0.3), 0px 1px 3px 1px rgba(60, 64, 67, 0.15);\n",
              "      fill: #174EA6;\n",
              "    }\n",
              "\n",
              "    [theme=dark] .colab-df-convert {\n",
              "      background-color: #3B4455;\n",
              "      fill: #D2E3FC;\n",
              "    }\n",
              "\n",
              "    [theme=dark] .colab-df-convert:hover {\n",
              "      background-color: #434B5C;\n",
              "      box-shadow: 0px 1px 3px 1px rgba(0, 0, 0, 0.15);\n",
              "      filter: drop-shadow(0px 1px 2px rgba(0, 0, 0, 0.3));\n",
              "      fill: #FFFFFF;\n",
              "    }\n",
              "  </style>\n",
              "\n",
              "      <script>\n",
              "        const buttonEl =\n",
              "          document.querySelector('#df-de61e89d-a871-4b46-b6b5-71223c64b4d0 button.colab-df-convert');\n",
              "        buttonEl.style.display =\n",
              "          google.colab.kernel.accessAllowed ? 'block' : 'none';\n",
              "\n",
              "        async function convertToInteractive(key) {\n",
              "          const element = document.querySelector('#df-de61e89d-a871-4b46-b6b5-71223c64b4d0');\n",
              "          const dataTable =\n",
              "            await google.colab.kernel.invokeFunction('convertToInteractive',\n",
              "                                                     [key], {});\n",
              "          if (!dataTable) return;\n",
              "\n",
              "          const docLinkHtml = 'Like what you see? Visit the ' +\n",
              "            '<a target=\"_blank\" href=https://colab.research.google.com/notebooks/data_table.ipynb>data table notebook</a>'\n",
              "            + ' to learn more about interactive tables.';\n",
              "          element.innerHTML = '';\n",
              "          dataTable['output_type'] = 'display_data';\n",
              "          await google.colab.output.renderOutput(dataTable, element);\n",
              "          const docLink = document.createElement('div');\n",
              "          docLink.innerHTML = docLinkHtml;\n",
              "          element.appendChild(docLink);\n",
              "        }\n",
              "      </script>\n",
              "    </div>\n",
              "  </div>\n",
              "  "
            ]
          },
          "metadata": {},
          "execution_count": 38
        }
      ]
    },
    {
      "cell_type": "code",
      "source": [
        "df.head()"
      ],
      "metadata": {
        "colab": {
          "base_uri": "https://localhost:8080/",
          "height": 206
        },
        "id": "Y14ywe_lYwZX",
        "outputId": "db188cd7-9242-4e4d-9831-b6f63cf8220a"
      },
      "execution_count": 39,
      "outputs": [
        {
          "output_type": "execute_result",
          "data": {
            "text/plain": [
              "        Date      Price\n",
              "0 2013-01-03  19.360714\n",
              "1 2013-01-04  18.821428\n",
              "2 2013-01-07  18.710714\n",
              "3 2013-01-08  18.761070\n",
              "4 2013-01-09  18.467857"
            ],
            "text/html": [
              "\n",
              "  <div id=\"df-56ab2400-7f64-4030-92b5-f97adb8f9d1c\">\n",
              "    <div class=\"colab-df-container\">\n",
              "      <div>\n",
              "<style scoped>\n",
              "    .dataframe tbody tr th:only-of-type {\n",
              "        vertical-align: middle;\n",
              "    }\n",
              "\n",
              "    .dataframe tbody tr th {\n",
              "        vertical-align: top;\n",
              "    }\n",
              "\n",
              "    .dataframe thead th {\n",
              "        text-align: right;\n",
              "    }\n",
              "</style>\n",
              "<table border=\"1\" class=\"dataframe\">\n",
              "  <thead>\n",
              "    <tr style=\"text-align: right;\">\n",
              "      <th></th>\n",
              "      <th>Date</th>\n",
              "      <th>Price</th>\n",
              "    </tr>\n",
              "  </thead>\n",
              "  <tbody>\n",
              "    <tr>\n",
              "      <th>0</th>\n",
              "      <td>2013-01-03</td>\n",
              "      <td>19.360714</td>\n",
              "    </tr>\n",
              "    <tr>\n",
              "      <th>1</th>\n",
              "      <td>2013-01-04</td>\n",
              "      <td>18.821428</td>\n",
              "    </tr>\n",
              "    <tr>\n",
              "      <th>2</th>\n",
              "      <td>2013-01-07</td>\n",
              "      <td>18.710714</td>\n",
              "    </tr>\n",
              "    <tr>\n",
              "      <th>3</th>\n",
              "      <td>2013-01-08</td>\n",
              "      <td>18.761070</td>\n",
              "    </tr>\n",
              "    <tr>\n",
              "      <th>4</th>\n",
              "      <td>2013-01-09</td>\n",
              "      <td>18.467857</td>\n",
              "    </tr>\n",
              "  </tbody>\n",
              "</table>\n",
              "</div>\n",
              "      <button class=\"colab-df-convert\" onclick=\"convertToInteractive('df-56ab2400-7f64-4030-92b5-f97adb8f9d1c')\"\n",
              "              title=\"Convert this dataframe to an interactive table.\"\n",
              "              style=\"display:none;\">\n",
              "        \n",
              "  <svg xmlns=\"http://www.w3.org/2000/svg\" height=\"24px\"viewBox=\"0 0 24 24\"\n",
              "       width=\"24px\">\n",
              "    <path d=\"M0 0h24v24H0V0z\" fill=\"none\"/>\n",
              "    <path d=\"M18.56 5.44l.94 2.06.94-2.06 2.06-.94-2.06-.94-.94-2.06-.94 2.06-2.06.94zm-11 1L8.5 8.5l.94-2.06 2.06-.94-2.06-.94L8.5 2.5l-.94 2.06-2.06.94zm10 10l.94 2.06.94-2.06 2.06-.94-2.06-.94-.94-2.06-.94 2.06-2.06.94z\"/><path d=\"M17.41 7.96l-1.37-1.37c-.4-.4-.92-.59-1.43-.59-.52 0-1.04.2-1.43.59L10.3 9.45l-7.72 7.72c-.78.78-.78 2.05 0 2.83L4 21.41c.39.39.9.59 1.41.59.51 0 1.02-.2 1.41-.59l7.78-7.78 2.81-2.81c.8-.78.8-2.07 0-2.86zM5.41 20L4 18.59l7.72-7.72 1.47 1.35L5.41 20z\"/>\n",
              "  </svg>\n",
              "      </button>\n",
              "      \n",
              "  <style>\n",
              "    .colab-df-container {\n",
              "      display:flex;\n",
              "      flex-wrap:wrap;\n",
              "      gap: 12px;\n",
              "    }\n",
              "\n",
              "    .colab-df-convert {\n",
              "      background-color: #E8F0FE;\n",
              "      border: none;\n",
              "      border-radius: 50%;\n",
              "      cursor: pointer;\n",
              "      display: none;\n",
              "      fill: #1967D2;\n",
              "      height: 32px;\n",
              "      padding: 0 0 0 0;\n",
              "      width: 32px;\n",
              "    }\n",
              "\n",
              "    .colab-df-convert:hover {\n",
              "      background-color: #E2EBFA;\n",
              "      box-shadow: 0px 1px 2px rgba(60, 64, 67, 0.3), 0px 1px 3px 1px rgba(60, 64, 67, 0.15);\n",
              "      fill: #174EA6;\n",
              "    }\n",
              "\n",
              "    [theme=dark] .colab-df-convert {\n",
              "      background-color: #3B4455;\n",
              "      fill: #D2E3FC;\n",
              "    }\n",
              "\n",
              "    [theme=dark] .colab-df-convert:hover {\n",
              "      background-color: #434B5C;\n",
              "      box-shadow: 0px 1px 3px 1px rgba(0, 0, 0, 0.15);\n",
              "      filter: drop-shadow(0px 1px 2px rgba(0, 0, 0, 0.3));\n",
              "      fill: #FFFFFF;\n",
              "    }\n",
              "  </style>\n",
              "\n",
              "      <script>\n",
              "        const buttonEl =\n",
              "          document.querySelector('#df-56ab2400-7f64-4030-92b5-f97adb8f9d1c button.colab-df-convert');\n",
              "        buttonEl.style.display =\n",
              "          google.colab.kernel.accessAllowed ? 'block' : 'none';\n",
              "\n",
              "        async function convertToInteractive(key) {\n",
              "          const element = document.querySelector('#df-56ab2400-7f64-4030-92b5-f97adb8f9d1c');\n",
              "          const dataTable =\n",
              "            await google.colab.kernel.invokeFunction('convertToInteractive',\n",
              "                                                     [key], {});\n",
              "          if (!dataTable) return;\n",
              "\n",
              "          const docLinkHtml = 'Like what you see? Visit the ' +\n",
              "            '<a target=\"_blank\" href=https://colab.research.google.com/notebooks/data_table.ipynb>data table notebook</a>'\n",
              "            + ' to learn more about interactive tables.';\n",
              "          element.innerHTML = '';\n",
              "          dataTable['output_type'] = 'display_data';\n",
              "          await google.colab.output.renderOutput(dataTable, element);\n",
              "          const docLink = document.createElement('div');\n",
              "          docLink.innerHTML = docLinkHtml;\n",
              "          element.appendChild(docLink);\n",
              "        }\n",
              "      </script>\n",
              "    </div>\n",
              "  </div>\n",
              "  "
            ]
          },
          "metadata": {},
          "execution_count": 39
        }
      ]
    },
    {
      "cell_type": "code",
      "source": [
        "df['Price'] = df['Price'].astype(float)\n",
        "\n",
        "plt.figure(figsize=(20,7))\n",
        "plt.plot(df['Date'].values, df['Price'].values, label = 'Apple Stock Price', color = 'red')\n",
        "plt.xlabel('Date')\n",
        "plt.ylabel('Price ($)')\n",
        "plt.legend()\n",
        "plt.show()"
      ],
      "metadata": {
        "colab": {
          "base_uri": "https://localhost:8080/",
          "height": 442
        },
        "id": "4Jw5ci69WgAi",
        "outputId": "05990464-d8bb-437e-b040-a924b32cc213"
      },
      "execution_count": 40,
      "outputs": [
        {
          "output_type": "display_data",
          "data": {
            "text/plain": [
              "<Figure size 1440x504 with 1 Axes>"
            ],
            "image/png": "[encoded data removed]"
          },
          "metadata": {
            "needs_background": "light"
          }
        }
      ]
    },
    {
      "cell_type": "markdown",
      "source": [
        "# Data preprocessing"
      ],
      "metadata": {
        "id": "uu4s99MoghT8"
      }
    },
    {
      "cell_type": "code",
      "source": [
        "num_rows = 2500\n",
        "\n",
        "train = df.iloc[:num_rows, 1:2].values\n",
        "test = df.iloc[num_rows:, 1:2].values"
      ],
      "metadata": {
        "id": "8jfsXTcdfVUV"
      },
      "execution_count": 41,
      "outputs": []
    },
    {
      "cell_type": "code",
      "source": [
        "sc = MinMaxScaler(feature_range = (0, 1))\n",
        "train_scaled = sc.fit_transform(train)"
      ],
      "metadata": {
        "id": "7J9Zp_2sfWVJ"
      },
      "execution_count": 42,
      "outputs": []
    },
    {
      "cell_type": "code",
      "source": [
        "train.shape"
      ],
      "metadata": {
        "colab": {
          "base_uri": "https://localhost:8080/"
        },
        "id": "GJaazTaesAEg",
        "outputId": "1a64e620-fd32-4a03-f0bc-b7a99671b1fe"
      },
      "execution_count": 43,
      "outputs": [
        {
          "output_type": "execute_result",
          "data": {
            "text/plain": [
              "(2500, 1)"
            ]
          },
          "metadata": {},
          "execution_count": 43
        }
      ]
    },
    {
      "cell_type": "code",
      "source": [
        "test.shape"
      ],
      "metadata": {
        "colab": {
          "base_uri": "https://localhost:8080/"
        },
        "id": "g4WaQRZpfYHM",
        "outputId": "bd9339cd-16ce-47ec-b202-362d52b81bd0"
      },
      "execution_count": 44,
      "outputs": [
        {
          "output_type": "execute_result",
          "data": {
            "text/plain": [
              "(36, 1)"
            ]
          },
          "metadata": {},
          "execution_count": 44
        }
      ]
    },
    {
      "cell_type": "code",
      "source": [
        "X_train = []\n",
        "\n",
        "#Price on next day\n",
        "y_train = []\n",
        "\n",
        "lookback = 60  # prepsat na lookback\n",
        "\n",
        "for i in range(lookback, num_rows):\n",
        "    X_train_ = np.reshape(train_scaled[i-lookback:i, 0], (lookback, 1))\n",
        "    X_train.append(X_train_)\n",
        "    y_train.append(train_scaled[i, 0])\n",
        "X_train = np.stack(X_train)\n",
        "y_train = np.stack(y_train)"
      ],
      "metadata": {
        "id": "L1C2k-kTdYKD"
      },
      "execution_count": 45,
      "outputs": []
    },
    {
      "cell_type": "markdown",
      "source": [
        "# MODEL"
      ],
      "metadata": {
        "id": "C4VkX1gSapv3"
      }
    },
    {
      "cell_type": "code",
      "source": [
        "# Initializing the Recurrent Neural Network\n",
        "model = Sequential()\n",
        "#Adding the first LSTM layer with a sigmoid activation function and some Dropout regularization\n",
        "#Units - dimensionality of the output space\n",
        "\n",
        "model.add(LSTM(units = 50, return_sequences = True, input_shape = (60, 1)))\n",
        "model.add(Dropout(0.2))\n",
        "\n",
        "model.add(LSTM(units = 50, return_sequences = True))\n",
        "model.add(Dropout(0.2))\n",
        "\n",
        "model.add(LSTM(units = 50, return_sequences = True))\n",
        "model.add(Dropout(0.2))\n",
        "\n",
        "model.add(LSTM(units = 50))\n",
        "model.add(Dropout(0.2))\n",
        "\n",
        "# Adding the output layer\n",
        "model.add(Dense(units = 1))\n",
        "model.summary()"
      ],
      "metadata": {
        "colab": {
          "base_uri": "https://localhost:8080/"
        },
        "id": "OsX_HWlIeL4N",
        "outputId": "d8491c68-2973-4fef-9bee-ee0dfe031a27"
      },
      "execution_count": 46,
      "outputs": [
        {
          "output_type": "stream",
          "name": "stdout",
          "text": [
            "Model: \"sequential_1\"\n",
            "_________________________________________________________________\n",
            " Layer (type)                Output Shape              Param #   \n",
            "=================================================================\n",
            " lstm_4 (LSTM)               (None, 60, 50)            10400     \n",
            "                                                                 \n",
            " dropout_4 (Dropout)         (None, 60, 50)            0         \n",
            "                                                                 \n",
            " lstm_5 (LSTM)               (None, 60, 50)            20200     \n",
            "                                                                 \n",
            " dropout_5 (Dropout)         (None, 60, 50)            0         \n",
            "                                                                 \n",
            " lstm_6 (LSTM)               (None, 60, 50)            20200     \n",
            "                                                                 \n",
            " dropout_6 (Dropout)         (None, 60, 50)            0         \n",
            "                                                                 \n",
            " lstm_7 (LSTM)               (None, 50)                20200     \n",
            "                                                                 \n",
            " dropout_7 (Dropout)         (None, 50)                0         \n",
            "                                                                 \n",
            " dense_1 (Dense)             (None, 1)                 51        \n",
            "                                                                 \n",
            "=================================================================\n",
            "Total params: 71,051\n",
            "Trainable params: 71,051\n",
            "Non-trainable params: 0\n",
            "_________________________________________________________________\n"
          ]
        }
      ]
    },
    {
      "cell_type": "code",
      "source": [
        "early_stop = EarlyStopping(monitor='loss', patience=10)\n",
        "model.compile(optimizer = 'Adam', loss = 'mean_squared_error')\n",
        "model.fit(X_train, y_train, epochs = 1000, batch_size = 32, callbacks=[early_stop]);"
      ],
      "metadata": {
        "colab": {
          "base_uri": "https://localhost:8080/"
        },
        "id": "nVrpf5__efyB",
        "outputId": "83dab3c2-a831-45b8-b9b3-2e30fbdf767e"
      },
      "execution_count": 47,
      "outputs": [
        {
          "output_type": "stream",
          "name": "stdout",
          "text": [
            "Epoch 1/1000\n",
            "77/77 [==============================] - 35s 144ms/step - loss: 0.0103\n",
            "Epoch 2/1000\n",
            "77/77 [==============================] - 11s 138ms/step - loss: 0.0028\n",
            "Epoch 3/1000\n",
            "77/77 [==============================] - 11s 139ms/step - loss: 0.0026\n",
            "Epoch 4/1000\n",
            "77/77 [==============================] - 11s 140ms/step - loss: 0.0022\n",
            "Epoch 5/1000\n",
            "77/77 [==============================] - 10s 124ms/step - loss: 0.0028\n",
            "Epoch 6/1000\n",
            "77/77 [==============================] - 11s 143ms/step - loss: 0.0023\n",
            "Epoch 7/1000\n",
            "77/77 [==============================] - 11s 141ms/step - loss: 0.0021\n",
            "Epoch 8/1000\n",
            "77/77 [==============================] - 13s 164ms/step - loss: 0.0021\n",
            "Epoch 9/1000\n",
            "77/77 [==============================] - 11s 143ms/step - loss: 0.0020\n",
            "Epoch 10/1000\n",
            "77/77 [==============================] - 11s 142ms/step - loss: 0.0019\n",
            "Epoch 11/1000\n",
            "77/77 [==============================] - 10s 132ms/step - loss: 0.0017\n",
            "Epoch 12/1000\n",
            "77/77 [==============================] - 10s 135ms/step - loss: 0.0018\n",
            "Epoch 13/1000\n",
            "77/77 [==============================] - 11s 146ms/step - loss: 0.0017\n",
            "Epoch 14/1000\n",
            "77/77 [==============================] - 11s 145ms/step - loss: 0.0021\n",
            "Epoch 15/1000\n",
            "77/77 [==============================] - 11s 146ms/step - loss: 0.0015\n",
            "Epoch 16/1000\n",
            "77/77 [==============================] - 11s 144ms/step - loss: 0.0015\n",
            "Epoch 17/1000\n",
            "77/77 [==============================] - 11s 141ms/step - loss: 0.0017\n",
            "Epoch 18/1000\n",
            "77/77 [==============================] - 10s 132ms/step - loss: 0.0017\n",
            "Epoch 19/1000\n",
            "77/77 [==============================] - 11s 145ms/step - loss: 0.0015\n",
            "Epoch 20/1000\n",
            "77/77 [==============================] - 11s 147ms/step - loss: 0.0015\n",
            "Epoch 21/1000\n",
            "77/77 [==============================] - 11s 146ms/step - loss: 0.0013\n",
            "Epoch 22/1000\n",
            "77/77 [==============================] - 11s 145ms/step - loss: 0.0015\n",
            "Epoch 23/1000\n",
            "77/77 [==============================] - 11s 144ms/step - loss: 0.0014\n",
            "Epoch 24/1000\n",
            "77/77 [==============================] - 10s 128ms/step - loss: 0.0013\n",
            "Epoch 25/1000\n",
            "77/77 [==============================] - 11s 145ms/step - loss: 0.0011\n",
            "Epoch 26/1000\n",
            "77/77 [==============================] - 11s 144ms/step - loss: 0.0012\n",
            "Epoch 27/1000\n",
            "77/77 [==============================] - 11s 144ms/step - loss: 0.0015\n",
            "Epoch 28/1000\n",
            "77/77 [==============================] - 11s 144ms/step - loss: 0.0015\n",
            "Epoch 29/1000\n",
            "77/77 [==============================] - 11s 144ms/step - loss: 0.0012\n",
            "Epoch 30/1000\n",
            "77/77 [==============================] - 10s 132ms/step - loss: 0.0012\n",
            "Epoch 31/1000\n",
            "77/77 [==============================] - 11s 141ms/step - loss: 0.0012\n",
            "Epoch 32/1000\n",
            "77/77 [==============================] - 11s 145ms/step - loss: 0.0012\n",
            "Epoch 33/1000\n",
            "77/77 [==============================] - 11s 146ms/step - loss: 0.0012\n",
            "Epoch 34/1000\n",
            "77/77 [==============================] - 11s 144ms/step - loss: 0.0012\n",
            "Epoch 35/1000\n",
            "77/77 [==============================] - 11s 146ms/step - loss: 0.0011\n"
          ]
        }
      ]
    },
    {
      "cell_type": "markdown",
      "source": [
        "# Prediction"
      ],
      "metadata": {
        "id": "ZbEHrfXxpTZX"
      }
    },
    {
      "cell_type": "code",
      "source": [
        "df_volume = np.vstack((train, test))\n",
        "\n",
        "inputs = df_volume[df_volume.shape[0] - test.shape[0] - lookback:]\n",
        "inputs = inputs.reshape(-1,1)\n",
        "inputs = sc.transform(inputs)\n",
        "\n",
        "num_2 = df_volume.shape[0] - num_rows + lookback\n",
        "\n",
        "X_test = []\n",
        "\n",
        "for i in range(lookback, num_2):\n",
        "    X_test_ = np.reshape(inputs[i-lookback:i, 0], (lookback, 1))\n",
        "    X_test.append(X_test_)\n",
        "    \n",
        "X_test = np.stack(X_test)"
      ],
      "metadata": {
        "id": "6jdBeepsekOp"
      },
      "execution_count": 48,
      "outputs": []
    },
    {
      "cell_type": "code",
      "source": [
        "predict = model.predict(X_test)\n",
        "predict = sc.inverse_transform(predict)"
      ],
      "metadata": {
        "colab": {
          "base_uri": "https://localhost:8080/"
        },
        "id": "QY9YiC-ipZm1",
        "outputId": "ac5543b8-5471-4201-e42c-3f9bc91b9c3d"
      },
      "execution_count": 49,
      "outputs": [
        {
          "output_type": "stream",
          "name": "stdout",
          "text": [
            "2/2 [==============================] - 3s 22ms/step\n"
          ]
        }
      ]
    },
    {
      "cell_type": "code",
      "source": [
        "diff = predict - test\n",
        "\n",
        "print(\"MSE:\", np.mean(diff**2))\n",
        "print(\"MAE:\", np.mean(abs(diff)))\n",
        "print(\"RMSE:\", np.sqrt(np.mean(diff**2)))"
      ],
      "metadata": {
        "colab": {
          "base_uri": "https://localhost:8080/"
        },
        "id": "KZNz9XvJpbaA",
        "outputId": "a2428b7a-2f3b-4f3c-f275-8ec0b9a19b89"
      },
      "execution_count": 50,
      "outputs": [
        {
          "output_type": "stream",
          "name": "stdout",
          "text": [
            "MSE: 111.2520170651373\n",
            "MAE: 9.00918854607476\n",
            "RMSE: 10.547607172488805\n"
          ]
        }
      ]
    },
    {
      "cell_type": "code",
      "source": [
        "plt.figure(figsize=(20,7))\n",
        "plt.plot(df['Date'].values[2000:], df_volume[2000:], color = 'red', label = 'Real Apple Stock Price')\n",
        "plt.plot(df['Date'][-predict.shape[0]:].values, predict, color = 'blue', label = 'Predicted Apple Stock Price')\n",
        "#plt.xticks(np.arange(100,df[2500:].shape[0],200))\n",
        "plt.title('Apple Stock Price Prediction')\n",
        "plt.xlabel('Date')\n",
        "plt.ylabel('Price ($)')\n",
        "plt.legend()\n",
        "plt.show()"
      ],
      "metadata": {
        "colab": {
          "base_uri": "https://localhost:8080/",
          "height": 458
        },
        "id": "R1X1BfrWpeGa",
        "outputId": "94c17afa-89a0-4ef2-fa86-d41579d5f209"
      },
      "execution_count": 51,
      "outputs": [
        {
          "output_type": "display_data",
          "data": {
            "text/plain": [
              "<Figure size 1440x504 with 1 Axes>"
            ],
            "image/png": "[encoded data removed]"
          },
          "metadata": {
            "needs_background": "light"
          }
        }
      ]
    },
    {
      "cell_type": "markdown",
      "source": [
        "# 20-day prediction"
      ],
      "metadata": {
        "id": "ZmNv5aWXpftU"
      }
    },
    {
      "cell_type": "code",
      "source": [
        "pred_ = predict[-1].copy()\n",
        "prediction_full = []\n",
        "lookback = 60\n",
        "df_copy = df.iloc[:, 1:2][1:].values\n",
        "\n",
        "for j in range(20):\n",
        "    df_ = np.vstack((df_copy, pred_))\n",
        "    train_ = df_[:num_rows]\n",
        "    test_ = df_[num_rows:]\n",
        "    \n",
        "    df_volume_ = np.vstack((train_, test_))\n",
        "\n",
        "    inputs_ = df_volume_[df_volume_.shape[0] - test_.shape[0] - lookback:]\n",
        "    inputs_ = inputs_.reshape(-1,1)\n",
        "    inputs_ = sc.transform(inputs_)\n",
        "\n",
        "    X_test_2 = []\n",
        "\n",
        "    for k in range(lookback, num_2):\n",
        "        X_test_3 = np.reshape(inputs_[k-lookback:k, 0], (lookback, 1))\n",
        "        X_test_2.append(X_test_3)\n",
        "\n",
        "    X_test_ = np.stack(X_test_2)\n",
        "    predict_ = model.predict(X_test_)\n",
        "    pred_ = sc.inverse_transform(predict_)\n",
        "    prediction_full.append(pred_[-1][0])\n",
        "    df_copy = df_[j:]"
      ],
      "metadata": {
        "colab": {
          "base_uri": "https://localhost:8080/"
        },
        "id": "FcF5E907pkme",
        "outputId": "a1256d0e-9d92-4966-a540-85a6864cb29d"
      },
      "execution_count": 52,
      "outputs": [
        {
          "output_type": "stream",
          "name": "stdout",
          "text": [
            "2/2 [==============================] - 0s 31ms/step\n",
            "2/2 [==============================] - 0s 23ms/step\n",
            "2/2 [==============================] - 0s 23ms/step\n",
            "2/2 [==============================] - 0s 23ms/step\n",
            "2/2 [==============================] - 0s 23ms/step\n",
            "2/2 [==============================] - 0s 24ms/step\n",
            "2/2 [==============================] - 0s 25ms/step\n",
            "2/2 [==============================] - 0s 27ms/step\n",
            "2/2 [==============================] - 0s 23ms/step\n",
            "2/2 [==============================] - 0s 28ms/step\n",
            "2/2 [==============================] - 0s 24ms/step\n",
            "2/2 [==============================] - 0s 25ms/step\n",
            "2/2 [==============================] - 0s 23ms/step\n",
            "2/2 [==============================] - 0s 25ms/step\n",
            "2/2 [==============================] - 0s 24ms/step\n",
            "2/2 [==============================] - 0s 24ms/step\n",
            "2/2 [==============================] - 0s 25ms/step\n",
            "2/2 [==============================] - 0s 26ms/step\n",
            "2/2 [==============================] - 0s 24ms/step\n",
            "2/2 [==============================] - 0s 25ms/step\n"
          ]
        }
      ]
    },
    {
      "cell_type": "code",
      "source": [
        "prediction_full_new = np.vstack((predict, np.array(prediction_full).reshape(-1,1)))"
      ],
      "metadata": {
        "id": "p7Cv4YpTpq_S"
      },
      "execution_count": 53,
      "outputs": []
    },
    {
      "cell_type": "code",
      "source": [
        "df_date = df[['Date']]\n",
        "\n",
        "for h in range(20):\n",
        "    df_date_add = pd.to_datetime(df_date['Date'].iloc[-1]) + pd.DateOffset(days=1)\n",
        "    df_date_add = pd.DataFrame([df_date_add.strftime(\"%Y-%m-%d\")], columns=['Date'])\n",
        "    df_date = df_date.append(df_date_add)\n",
        "df_date = df_date.reset_index(drop=True)"
      ],
      "metadata": {
        "id": "K-ZIdsnFptl2"
      },
      "execution_count": 54,
      "outputs": []
    },
    {
      "cell_type": "code",
      "source": [
        "plt.figure(figsize=(20,7))\n",
        "plt.plot(df['Date'].values[2400:], df_volume[2400:], color = 'red', label = 'Real Apple Stock Price')\n",
        "plt.plot(df_date['Date'][-prediction_full_new.shape[0]:].values, prediction_full_new, color = 'blue', label = 'Predicted Apple Stock Price')\n",
        "#plt.xticks(np.arange(100,df[2400:].shape[0],200))\n",
        "plt.title('Apple Stock Price Prediction')\n",
        "plt.xlabel('Date')\n",
        "plt.ylabel('Price ($)')\n",
        "plt.legend()\n",
        "plt.show()"
      ],
      "metadata": {
        "colab": {
          "base_uri": "https://localhost:8080/",
          "height": 458
        },
        "id": "KoOShTqOpvBH",
        "outputId": "1bd6f0f5-0f15-48b6-a643-4beeb3b9cd99"
      },
      "execution_count": 55,
      "outputs": [
        {
          "output_type": "display_data",
          "data": {
            "text/plain": [
              "<Figure size 1440x504 with 1 Axes>"
            ],
            "image/png": "[encoded data removed]"
          },
          "metadata": {
            "needs_background": "light"
          }
        }
      ]
    }
  ]
}